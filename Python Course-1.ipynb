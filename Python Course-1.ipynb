{
 "cells": [
  {
   "cell_type": "code",
   "execution_count": 1,
   "id": "0621b2ca-38bd-40b6-b314-11765ed2b39e",
   "metadata": {},
   "outputs": [],
   "source": [
    "import numpy as np"
   ]
  },
  {
   "cell_type": "code",
   "execution_count": 2,
   "id": "c666709b-cd17-4da8-a4e2-3c61fe9064f0",
   "metadata": {},
   "outputs": [],
   "source": [
    "my_list = [1, 2, 3, 4, 5]"
   ]
  },
  {
   "cell_type": "code",
   "execution_count": 3,
   "id": "1aafd08f-0927-41f6-a861-98b6000506ca",
   "metadata": {},
   "outputs": [],
   "source": [
    "my_array = np.array(my_list)"
   ]
  },
  {
   "cell_type": "code",
   "execution_count": 4,
   "id": "a365186a-8bef-4036-afc3-4d89d3b33c6c",
   "metadata": {},
   "outputs": [
    {
     "data": {
      "text/plain": [
       "array([1, 2, 3, 4, 5])"
      ]
     },
     "execution_count": 4,
     "metadata": {},
     "output_type": "execute_result"
    }
   ],
   "source": [
    "my_array"
   ]
  },
  {
   "cell_type": "code",
   "execution_count": 5,
   "id": "73e4502b-9d23-4902-b91b-8f4b8b27a212",
   "metadata": {},
   "outputs": [
    {
     "name": "stdout",
     "output_type": "stream",
     "text": [
      "9\n",
      "Random Integer Array:\n",
      " [[3 8 8]\n",
      " [5 8 5]\n",
      " [8 7 3]]\n"
     ]
    }
   ],
   "source": [
    "import random\n",
    "import numpy as np\n",
    "\n",
    "# Generate a random integer between 1 and 10 using random module\n",
    "print(random.randint(1, 10))\n",
    "\n",
    "# Generate a 3x3 array of random integers between 1 and 10 using NumPy\n",
    "rand_int = np.random.randint(1, 10, size=(3, 3))\n",
    "\n",
    "# Print the random integer array\n",
    "print(\"Random Integer Array:\\n\", rand_int)"
   ]
  },
  {
   "cell_type": "code",
   "execution_count": 6,
   "id": "e36bd086-d817-49ad-b358-70da769e2f78",
   "metadata": {},
   "outputs": [
    {
     "name": "stdout",
     "output_type": "stream",
     "text": [
      "Random Float Array:\n",
      " [[0.89586107 0.9974724 ]\n",
      " [0.39325099 0.77447379]]\n"
     ]
    }
   ],
   "source": [
    "rand_float = np.random.random((2,2))\n",
    "print(\"Random Float Array:\\n\", rand_float)"
   ]
  },
  {
   "cell_type": "code",
   "execution_count": 7,
   "id": "88431a50-aa49-4dcb-8436-d60d0d603fb1",
   "metadata": {},
   "outputs": [
    {
     "name": "stdout",
     "output_type": "stream",
     "text": [
      "normal Distribution Array:\n",
      " [[ 1.07500822  0.29528844 -0.06953621]\n",
      " [-0.70449717  0.42519179  0.58866997]\n",
      " [ 1.11906971 -2.63058313 -0.54408195]]\n"
     ]
    }
   ],
   "source": [
    "normal_dist = np.random.randn(3, 3)\n",
    "print(\"normal Distribution Array:\\n\", normal_dist)"
   ]
  },
  {
   "cell_type": "code",
   "execution_count": 8,
   "id": "83c0d6dc-9d43-49ca-9da3-3cddb53bbdfd",
   "metadata": {},
   "outputs": [
    {
     "name": "stdout",
     "output_type": "stream",
     "text": [
      "\n",
      "Arange array (range with step):\n",
      " [[1 2 3]\n",
      " [4 5 6]\n",
      " [7 8 9]]\n"
     ]
    }
   ],
   "source": [
    "arr_arange = np.arange(1, 10, 1).reshape(3,3)\n",
    "print(\"\\nArange array (range with step):\\n\", arr_arange)"
   ]
  },
  {
   "cell_type": "code",
   "execution_count": 11,
   "id": "6879e872-ac56-45f1-9eec-c3e2088a8379",
   "metadata": {},
   "outputs": [
    {
     "name": "stdout",
     "output_type": "stream",
     "text": [
      "\n",
      "Arange array (range with step):\n",
      " [[1 2 3]\n",
      " [4 5 6]\n",
      " [7 8 9]]\n",
      "index [1, 2]: 6\n",
      "slice (rows 1 to 2, columns 1 to 2):\n",
      " [[4 5]\n",
      " [7 8]]\n"
     ]
    }
   ],
   "source": [
    "import numpy as np\n",
    "arr_arange = np.arange(1, 10, 1).reshape(3, 3)\n",
    "print(\"\\nArange array (range with step):\\n\", arr_arange)\n",
    "print(\"index [1, 2]:\", arr_arange[1, 2])  \n",
    "print(\"slice (rows 1 to 2, columns 1 to 2):\\n\", arr_arange[1:3, 0:2])  "
   ]
  },
  {
   "cell_type": "code",
   "execution_count": 12,
   "id": "dee44581-1428-47d7-b082-51aef67c1a4a",
   "metadata": {},
   "outputs": [
    {
     "name": "stdout",
     "output_type": "stream",
     "text": [
      "\n",
      "Arange array (range with step):\n",
      " [1 2 3 4 5 6 7 8 9]\n",
      "index  6\n",
      "slice  [2 3 4 5 6]\n",
      "slice  [1 2 3 4 5 6]\n",
      "slice  [3 4 5 6 7 8 9]\n"
     ]
    }
   ],
   "source": [
    "arr_arange = np.arange(1, 10, 1)\n",
    "print(\"\\nArange array (range with step):\\n\", arr_arange)\n",
    "print(\"index \", arr_arange[5])\n",
    "print(\"slice \", arr_arange[1:6])\n",
    "print(\"slice \", arr_arange[:6])\n",
    "print(\"slice \", arr_arange[2:])\n"
   ]
  },
  {
   "cell_type": "code",
   "execution_count": 13,
   "id": "5d6ed0a1-5258-4b3f-b70f-e23bf95fd02b",
   "metadata": {},
   "outputs": [
    {
     "name": "stdout",
     "output_type": "stream",
     "text": [
      "\n",
      "Arange array (range with step):\n",
      " [[1 2 3]\n",
      " [4 5 6]\n",
      " [7 8 9]]\n",
      "[4 5 6]\n",
      "5\n",
      "[2 5 8]\n",
      "[[1 2]\n",
      " [4 5]]\n"
     ]
    }
   ],
   "source": [
    "arr_arange = np.arange(1, 10, 1).reshape(3,3)\n",
    "print(\"\\nArange array (range with step):\\n\", arr_arange)\n",
    "print(arr_arange[1])\n",
    "print(arr_arange[1,1])\n",
    "print(arr_arange[:,1])\n",
    "print(arr_arange[::2,::2]) #[start=0:end=len(array):step=1]"
   ]
  },
  {
   "cell_type": "code",
   "execution_count": 14,
   "id": "920269d2-7cb2-44ee-a60e-c51e93051db2",
   "metadata": {
    "scrolled": true
   },
   "outputs": [
    {
     "name": "stdout",
     "output_type": "stream",
     "text": [
      "[[1 3]\n",
      " [7 9]]\n",
      "[[1 2]\n",
      " [4 5]]\n"
     ]
    }
   ],
   "source": [
    "arr1 = arr_arange[::2,::2]\n",
    "print(arr1)\n",
    "arr2 = arr_arange[:2:1,:2:1]\n",
    "print(arr2)"
   ]
  },
  {
   "cell_type": "code",
   "execution_count": 15,
   "id": "7c9c5d31-e20f-41a7-afcf-b9b4f8e655cc",
   "metadata": {},
   "outputs": [
    {
     "name": "stdout",
     "output_type": "stream",
     "text": [
      "[[1 2]\n",
      " [4 5]]\n"
     ]
    }
   ],
   "source": [
    "arr1 = arr2 + 5\n",
    "print(arr2)"
   ]
  },
  {
   "cell_type": "code",
   "execution_count": 17,
   "id": "003aed7d-bb1c-4741-8b41-7f9c1b4c0477",
   "metadata": {},
   "outputs": [
    {
     "name": "stdout",
     "output_type": "stream",
     "text": [
      "[[2 4]\n",
      " [5 7]]\n",
      "[[1 2]\n",
      " [4 5]]\n"
     ]
    }
   ],
   "source": [
    "arr1 = arr2 + np.array([1,2])\n",
    "print(arr1)\n",
    "print(arr2)"
   ]
  },
  {
   "cell_type": "code",
   "execution_count": 18,
   "id": "f9a06b9b-60c4-4c14-92d9-6e7a157e8b09",
   "metadata": {},
   "outputs": [],
   "source": [
    "l1 = [5,6,7,4, \"Jay\", False, (5,6)]"
   ]
  },
  {
   "cell_type": "code",
   "execution_count": 19,
   "id": "eb105f1b-33b9-4500-ac9f-e977e99e2b84",
   "metadata": {},
   "outputs": [
    {
     "name": "stdout",
     "output_type": "stream",
     "text": [
      "[5, 6, 7, 4, 'Jay', False, (5, 6)]\n"
     ]
    }
   ],
   "source": [
    "print(l1)"
   ]
  },
  {
   "cell_type": "code",
   "execution_count": 1,
   "id": "0e2b03a8-d80e-44d2-8d3d-9fa59796c8d3",
   "metadata": {},
   "outputs": [
    {
     "name": "stdout",
     "output_type": "stream",
     "text": [
      "0    10\n",
      "1    20\n",
      "2    30\n",
      "3    40\n",
      "4    50\n",
      "dtype: int64\n",
      "30\n"
     ]
    }
   ],
   "source": [
    "import pandas as pd\n",
    "data = [10, 20, 30, 40, 50]\n",
    "series1 = pd.Series(data)\n",
    "print(series1)\n",
    "print(series1[2])"
   ]
  },
  {
   "cell_type": "code",
   "execution_count": 2,
   "id": "8b8d2d63-cd10-4cb9-8e67-bd4ccf34965f",
   "metadata": {},
   "outputs": [],
   "source": [
    "#two forms of Pandas - Series (1 dimension) and Data Frame(2 dimensions)\n",
    "#Pandas\n",
    "import pandas as pd\n"
   ]
  },
  {
   "cell_type": "code",
   "execution_count": 8,
   "id": "7ed29349-352f-432a-a4ee-5169b41dec63",
   "metadata": {},
   "outputs": [
    {
     "name": "stdout",
     "output_type": "stream",
     "text": [
      "0    10\n",
      "1    20\n",
      "2    30\n",
      "3    40\n",
      "4    50\n",
      "dtype: int64\n",
      "30\n"
     ]
    }
   ],
   "source": [
    "data = [10, 20, 30, 40, 50]\n",
    "series1 = pd.Series(data)\n",
    "print(series1) #This is an example of a series data type that is just a collection of one dimension data \n",
    "# That means only one collumn will be there with a numerical index\n",
    "\n",
    "#to access values\n",
    "\n",
    "print(series1[2])\n"
   ]
  },
  {
   "cell_type": "code",
   "execution_count": 13,
   "id": "0c8f08ec-de44-4c30-91f6-86903c866804",
   "metadata": {},
   "outputs": [
    {
     "name": "stdout",
     "output_type": "stream",
     "text": [
      "A    100\n",
      "B    200\n",
      "C    300\n",
      "dtype: int64\n",
      "100\n",
      "200\n",
      "100\n"
     ]
    }
   ],
   "source": [
    "# Creating a Series from Python dictionary - to using dictionnaires to access the series #They use keys with string type not numerical\n",
    "data = {'A':100, 'B':200, 'C':300}\n",
    "series2 = pd.Series(data)\n",
    "print(series2)\n",
    "print(series2['A'])\n",
    "print(series2['B']) #String index gets higher priority\n",
    "print(series2.iloc[0]) #Accessing Series using a numeric value"
   ]
  },
  {
   "cell_type": "code",
   "execution_count": 19,
   "id": "204885cb-8331-4e98-8375-3719e7cc3163",
   "metadata": {},
   "outputs": [
    {
     "data": {
      "text/plain": [
       "a    10\n",
       "b    20\n",
       "c    30\n",
       "d    40\n",
       "e    50\n",
       "dtype: int64"
      ]
     },
     "execution_count": 19,
     "metadata": {},
     "output_type": "execute_result"
    }
   ],
   "source": [
    "#Creating manual index. Customise index\n",
    "\n",
    "data = [10, 20, 30, 40, 50]\n",
    "index = ['a', 'b', 'c', 'd', 'e']\n",
    "series4 = pd.Series(data, index=index) #index=index is the keyword to change the index\n",
    "series4"
   ]
  },
  {
   "cell_type": "code",
   "execution_count": 20,
   "id": "88481211-5bd2-4994-bbd9-d1c7e4ddce98",
   "metadata": {},
   "outputs": [
    {
     "data": {
      "text/plain": [
       "101    10\n",
       "102    20\n",
       "103    30\n",
       "104    40\n",
       "105    50\n",
       "dtype: int64"
      ]
     },
     "execution_count": 20,
     "metadata": {},
     "output_type": "execute_result"
    }
   ],
   "source": [
    "#Creating an index that doesnt start by 0(zero)\n",
    "#The default data type in Pandas is often 64-bit (e.g., int64, float64) because Pandas is designed for efficient handling of large datasets\n",
    "# and 64-bit data types provide a balance between precision and performance.\n",
    "data = [10, 20, 30, 40, 50]\n",
    "#index = ['a', 'b', 'c', 'd', 'e']\n",
    "index = range(101,106)\n",
    "series4 = pd.Series(data, index=index) #index=index is the keyword to change the index\n",
    "series4"
   ]
  },
  {
   "cell_type": "code",
   "execution_count": 24,
   "id": "51dc8765-717e-449a-bb4a-149be360d00c",
   "metadata": {},
   "outputs": [
    {
     "data": {
      "text/plain": [
       "101    10\n",
       "102    20\n",
       "103    30\n",
       "104    40\n",
       "105    50\n",
       "Name: Number Series, dtype: int32"
      ]
     },
     "execution_count": 24,
     "metadata": {},
     "output_type": "execute_result"
    }
   ],
   "source": [
    "#Changing the data type #The 32-bit format originated from older computing architectures and earlier systems that were designed for 32-bit processors. To understand where it came from, let's look into the evolution of computing and why 32-bit was widely used before 64-bit became the standard.\n",
    "data = [10, 20, 30, 40, 50]\n",
    "#index = ['a', 'b', 'c', 'd', 'e']\n",
    "index = range(101,106)\n",
    "series4 = pd.Series(data, index=index, dtype='int32', name=\"Number Series\") #index=index is the keyword to change the index\n",
    "series4\n"
   ]
  },
  {
   "cell_type": "code",
   "execution_count": 23,
   "id": "6c4e5f12-dba2-4901-8f5f-57c3e150b409",
   "metadata": {},
   "outputs": [
    {
     "name": "stdout",
     "output_type": "stream",
     "text": [
      "Index of the Series: RangeIndex(start=101, stop=106, step=1)\n",
      "Values of the Series: [10 20 30 40 50]\n",
      "Data type of the Series: int32\n",
      "Shape of the Series: (5,)\n",
      "Size (number of elements) of the Series: 5\n",
      "Name of the Series My Series\n"
     ]
    }
   ],
   "source": [
    "#what different attributes are there?\n",
    "# Print the index of the Series \n",
    "print(\"Index of the Series:\", series4.index)\n",
    "\n",
    "# Print the values of the Series\n",
    "print(\"Values of the Series:\", series4.values)\n",
    "\n",
    "# Print the data type of the elements in the Series\n",
    "print(\"Data type of the Series:\", series4.dtype)\n",
    "\n",
    "# Print the shape of the Series\n",
    "print(\"Shape of the Series:\", series4.shape)\n",
    "\n",
    "# Print the size (number of elements) in the Series\n",
    "print(\"Size (number of elements) of the Series:\", series4.size)\n",
    "\n",
    "# Assign a name to the Series and print it\n",
    "series4.name = \"My Series\"\n",
    "print(\"Name of the Series\", series4.name)\n"
   ]
  },
  {
   "cell_type": "code",
   "execution_count": 29,
   "id": "d6303f95-d7d2-4f4e-9e8a-1af2225f67e7",
   "metadata": {},
   "outputs": [
    {
     "name": "stdout",
     "output_type": "stream",
     "text": [
      "Element at index 0 (integer indexing): 10\n",
      "Element at index 'a' (label indexing): 10\n"
     ]
    }
   ],
   "source": [
    "data = [10, 20, 30, 40, 50]\n",
    "index = ['a', 'b', 'c', 'd', 'e']\n",
    "#index = range(101,106)\n",
    "series4 = pd.Series(data, index=index, dtype='int32', name=\"Number Series\")\n",
    "series4 \n",
    "#Access an element using integer index use iloc if you assign string labeling for index\n",
    "print(\"Element at index 0 (integer indexing):\", series4.iloc[0]) #Output 10\n",
    "\n",
    "#Access an element using Label index\n",
    "print(\"Element at index 'a' (label indexing):\", series4['a']) #Output 10\n"
   ]
  },
  {
   "cell_type": "code",
   "execution_count": 30,
   "id": "394c2565-fdef-4c17-a02f-0cc5afd38382",
   "metadata": {},
   "outputs": [
    {
     "name": "stdout",
     "output_type": "stream",
     "text": [
      "Slicing : b    20\n",
      "c    30\n",
      "d    40\n",
      "Name: Number Series, dtype: int32\n"
     ]
    }
   ],
   "source": [
    "print(\"Slicing :\", series4.iloc[1:4]) "
   ]
  },
  {
   "cell_type": "code",
   "execution_count": 31,
   "id": "5480309e-0b7e-40e5-8f80-f07f2536b843",
   "metadata": {},
   "outputs": [
    {
     "name": "stdout",
     "output_type": "stream",
     "text": [
      "Slicing :\n",
      " a    10\n",
      "c    30\n",
      "e    50\n",
      "Name: Number Series, dtype: int32\n"
     ]
    }
   ],
   "source": [
    "print(\"Slicing :\\n\", series4.iloc[::2]) "
   ]
  },
  {
   "cell_type": "code",
   "execution_count": 32,
   "id": "3c3337af-751b-4dc1-a985-a56878ff0530",
   "metadata": {},
   "outputs": [
    {
     "name": "stdout",
     "output_type": "stream",
     "text": [
      "Slicing :\n",
      " b    20\n",
      "Name: Number Series, dtype: int32\n"
     ]
    }
   ],
   "source": [
    "print(\"Slicing :\\n\", series4.iloc[1::4]) "
   ]
  },
  {
   "cell_type": "code",
   "execution_count": 33,
   "id": "b9b04146-995c-4672-adbb-020a607df84c",
   "metadata": {},
   "outputs": [
    {
     "name": "stdout",
     "output_type": "stream",
     "text": [
      "Slicing :\n",
      " b    20\n",
      "c    30\n",
      "d    40\n",
      "Name: Number Series, dtype: int32\n"
     ]
    }
   ],
   "source": [
    "print(\"Slicing :\\n\", series4.iloc[1:4]) "
   ]
  },
  {
   "cell_type": "code",
   "execution_count": 34,
   "id": "3cf6d6b5-2c67-4605-9fe9-2fd873203982",
   "metadata": {},
   "outputs": [
    {
     "name": "stdout",
     "output_type": "stream",
     "text": [
      "Series after multiplying each element by 2:\n",
      "a    12\n",
      "b    22\n",
      "c    32\n",
      "d    42\n",
      "e    52\n",
      "Name: Number Series, dtype: int32\n"
     ]
    }
   ],
   "source": [
    "series5 = series4 +2\n",
    "print(\"Series after multiplying each element by 2:\")\n",
    "print(series5) # Output: [20 40 60 80 100]"
   ]
  },
  {
   "cell_type": "code",
   "execution_count": 37,
   "id": "019358ec-f3eb-4622-b697-09f158da4e2c",
   "metadata": {},
   "outputs": [
    {
     "name": "stdout",
     "output_type": "stream",
     "text": [
      "Series sorted by values (ascending):\n",
      "a    10\n",
      "b    20\n",
      "c    30\n",
      "d    40\n",
      "e    50\n",
      "Name: Number Series, dtype: int32\n"
     ]
    }
   ],
   "source": [
    "#Sorting\n",
    "sorted_series = series4.sort_values()\n",
    "print(\"Series sorted by values (ascending):\")\n",
    "print(sorted_series)\n"
   ]
  },
  {
   "cell_type": "code",
   "execution_count": 38,
   "id": "8bb0e535-41c4-4387-af90-c834086f08a7",
   "metadata": {},
   "outputs": [
    {
     "name": "stdout",
     "output_type": "stream",
     "text": [
      "Series sorted by values (ascending):\n",
      "e    50\n",
      "d    40\n",
      "c    30\n",
      "b    20\n",
      "a    10\n",
      "Name: Number Series, dtype: int32\n"
     ]
    }
   ],
   "source": [
    "#Sorting by values (ascending)\n",
    "sorted_series = series4.sort_values(ascending=False)\n",
    "print(\"Series sorted by values (ascending):\")\n",
    "print(sorted_series)\n"
   ]
  },
  {
   "cell_type": "code",
   "execution_count": 39,
   "id": "6283076d-1058-4f46-a219-85b1bdc83b8d",
   "metadata": {},
   "outputs": [
    {
     "name": "stdout",
     "output_type": "stream",
     "text": [
      "Series sorted by values (ascending):\n",
      "a    10\n",
      "b    20\n",
      "c    30\n",
      "d    40\n",
      "e    50\n",
      "Name: Number Series, dtype: int32\n"
     ]
    }
   ],
   "source": [
    "#Sorting by values (descending)\n",
    "sorted_series = series4.sort_values(ascending=True)\n",
    "print(\"Series sorted by values (ascending):\")\n",
    "print(sorted_series)"
   ]
  },
  {
   "cell_type": "code",
   "execution_count": 40,
   "id": "0f338b29-363b-4a15-ab7c-0e3fe4d5ab66",
   "metadata": {},
   "outputs": [
    {
     "name": "stdout",
     "output_type": "stream",
     "text": [
      "0    10.0\n",
      "1    20.0\n",
      "2     NaN\n",
      "3    40.0\n",
      "4    50.0\n",
      "dtype: float64\n"
     ]
    }
   ],
   "source": [
    "data = [10, 20, None, 40, 50]\n",
    "series1 = pd.Series(data)\n",
    "print(series1)"
   ]
  },
  {
   "cell_type": "code",
   "execution_count": 42,
   "id": "64f721c5-a6e1-427a-a65e-a2dea49ed4fa",
   "metadata": {},
   "outputs": [
    {
     "name": "stdout",
     "output_type": "stream",
     "text": [
      "0    10.0\n",
      "1    20.0\n",
      "2     NaN\n",
      "3    40.0\n",
      "4    50.0\n",
      "dtype: float64\n",
      "0    10.0\n",
      "1    20.0\n",
      "2     NaN\n",
      "3    40.0\n",
      "4    50.0\n",
      "dtype: float64\n"
     ]
    }
   ],
   "source": [
    "data = [10, 20, None, 40, 50]\n",
    "series1 = pd.Series(data)\n",
    "print(series1)\n",
    "series1.dropna()\n",
    "print(series1)"
   ]
  },
  {
   "cell_type": "code",
   "execution_count": 45,
   "id": "8e332a7e-0f20-41a7-94c0-5656e4c52084",
   "metadata": {},
   "outputs": [
    {
     "name": "stdout",
     "output_type": "stream",
     "text": [
      "0    10.0\n",
      "1    20.0\n",
      "2     NaN\n",
      "3    40.0\n",
      "4    50.0\n",
      "dtype: float64\n",
      "0    10.0\n",
      "1    20.0\n",
      "2     NaN\n",
      "3    40.0\n",
      "4    50.0\n",
      "dtype: float64\n",
      "0    10.0\n",
      "1    20.0\n",
      "3    40.0\n",
      "4    50.0\n",
      "dtype: float64\n"
     ]
    }
   ],
   "source": [
    "#to remove items use dropna(). If you remove the index will change also!\n",
    "\n",
    "data = [10, 20, None, 40, 50]\n",
    "series1 = pd.Series(data)\n",
    "print(series1)\n",
    "series12 = series1.dropna()\n",
    "print(series1)\n",
    "print(series12)"
   ]
  },
  {
   "cell_type": "code",
   "execution_count": 49,
   "id": "7209aeff-9105-44f2-95e5-6fb0842e5619",
   "metadata": {},
   "outputs": [
    {
     "name": "stdout",
     "output_type": "stream",
     "text": [
      "0    10.0\n",
      "1    20.0\n",
      "2     NaN\n",
      "3    40.0\n",
      "4    50.0\n",
      "dtype: float64\n",
      "0    10.0\n",
      "1    20.0\n",
      "2     NaN\n",
      "3    40.0\n",
      "4    50.0\n",
      "dtype: float64\n",
      "<class 'pandas.core.series.Series'>\n",
      "   index     0\n",
      "0      0  10.0\n",
      "1      1  20.0\n",
      "2      3  40.0\n",
      "3      4  50.0\n",
      "<class 'pandas.core.frame.DataFrame'>\n"
     ]
    }
   ],
   "source": [
    "#To rearrange the index.\n",
    "#This method however transforms the data for two dimensions\n",
    "# I am assigning and the original database is not changing\n",
    "\n",
    "data = [10, 20, None, 40, 50]\n",
    "series1 = pd.Series(data)\n",
    "print(series1)\n",
    "\n",
    "series12 = series1.dropna()\n",
    "print(series1)\n",
    "print(type(series12))\n",
    "\n",
    "series12=series12.reset_index()\n",
    "print(series12)\n",
    "print(type(series12))"
   ]
  },
  {
   "cell_type": "code",
   "execution_count": 51,
   "id": "86cbf3ba-d36d-4afa-bcc1-b2e69734cfb2",
   "metadata": {},
   "outputs": [
    {
     "name": "stdout",
     "output_type": "stream",
     "text": [
      "0    10.0\n",
      "1    20.0\n",
      "2     NaN\n",
      "3    40.0\n",
      "4    50.0\n",
      "dtype: float64\n",
      "0    10.0\n",
      "1    20.0\n",
      "2     NaN\n",
      "3    40.0\n",
      "4    50.0\n",
      "dtype: float64\n",
      "<class 'pandas.core.series.Series'>\n",
      "0    10.0\n",
      "1    20.0\n",
      "2    40.0\n",
      "3    50.0\n",
      "dtype: float64\n",
      "<class 'pandas.core.series.Series'>\n"
     ]
    }
   ],
   "source": [
    "#If I do not want to maintain original one\n",
    "#When I do not want the data to change to two dimensions\n",
    "# I am assigning and the original database is not changing\n",
    "\n",
    "data = [10, 20, None, 40, 50]\n",
    "series1 = pd.Series(data)\n",
    "print(series1)\n",
    "\n",
    "series12 = series1.dropna()\n",
    "print(series1)\n",
    "print(type(series12))\n",
    "\n",
    "series12=series12.reset_index(drop=True)\n",
    "print(series12)\n",
    "print(type(series12))"
   ]
  },
  {
   "cell_type": "code",
   "execution_count": 52,
   "id": "81f2fc4e-2d88-4cd3-b232-5ae7cd5b07aa",
   "metadata": {},
   "outputs": [
    {
     "name": "stdout",
     "output_type": "stream",
     "text": [
      "0    10.0\n",
      "1    20.0\n",
      "2     NaN\n",
      "3    40.0\n",
      "4    50.0\n",
      "dtype: float64\n",
      "0    10.0\n",
      "1    20.0\n",
      "2     NaN\n",
      "3    40.0\n",
      "4    50.0\n",
      "dtype: float64\n",
      "<class 'pandas.core.series.Series'>\n",
      "0    10.0\n",
      "1    20.0\n",
      "2    40.0\n",
      "3    50.0\n",
      "dtype: float64\n",
      "<class 'pandas.core.series.Series'>\n"
     ]
    }
   ],
   "source": [
    "#To change the original database\n",
    "\n",
    "data = [10, 20, None, 40, 50]\n",
    "series1 = pd.Series(data)\n",
    "print(series1)\n",
    "\n",
    "series12 = series1.dropna()\n",
    "print(series1)\n",
    "print(type(series12))\n",
    "\n",
    "series12.reset_index(drop=True, inplace=True)\n",
    "print(series12)\n",
    "print(type(series12))\n"
   ]
  },
  {
   "cell_type": "code",
   "execution_count": 55,
   "id": "8e67290a-5e72-4f4a-a380-4a8acfa5e00b",
   "metadata": {},
   "outputs": [
    {
     "name": "stdout",
     "output_type": "stream",
     "text": [
      "0    10.0\n",
      "1    20.0\n",
      "2     NaN\n",
      "3    40.0\n",
      "4    50.0\n",
      "dtype: float64\n",
      "0    10.0\n",
      "1    20.0\n",
      "3    40.0\n",
      "4    50.0\n",
      "dtype: float64\n"
     ]
    }
   ],
   "source": [
    "#To change the original database\n",
    "\n",
    "data = [10, 20, None, 40, 50]\n",
    "series1 = pd.Series(data)\n",
    "print(series1)\n",
    "\n",
    "series1.dropna(inplace=True)\n",
    "print(series1)"
   ]
  },
  {
   "cell_type": "code",
   "execution_count": 57,
   "id": "17d39792-75b7-4c6b-9c53-db6960532096",
   "metadata": {},
   "outputs": [
    {
     "name": "stdout",
     "output_type": "stream",
     "text": [
      "0    10.0\n",
      "1    20.0\n",
      "2     NaN\n",
      "3    40.0\n",
      "4    50.0\n",
      "dtype: float64\n"
     ]
    },
    {
     "ename": "TypeError",
     "evalue": "Cannot reset_index inplace on a Series to create a DataFrame",
     "output_type": "error",
     "traceback": [
      "\u001b[1;31m---------------------------------------------------------------------------\u001b[0m",
      "\u001b[1;31mTypeError\u001b[0m                                 Traceback (most recent call last)",
      "Cell \u001b[1;32mIn[57], line 9\u001b[0m\n\u001b[0;32m      6\u001b[0m \u001b[38;5;28mprint\u001b[39m(series1)\n\u001b[0;32m      8\u001b[0m series1\u001b[38;5;241m.\u001b[39mdropna(inplace\u001b[38;5;241m=\u001b[39m\u001b[38;5;28;01mTrue\u001b[39;00m)\n\u001b[1;32m----> 9\u001b[0m \u001b[43mseries1\u001b[49m\u001b[38;5;241;43m.\u001b[39;49m\u001b[43mreset_index\u001b[49m\u001b[43m(\u001b[49m\u001b[43minplace\u001b[49m\u001b[38;5;241;43m=\u001b[39;49m\u001b[38;5;28;43;01mTrue\u001b[39;49;00m\u001b[43m)\u001b[49m\n\u001b[0;32m     10\u001b[0m \u001b[38;5;28mprint\u001b[39m(series1)\n",
      "File \u001b[1;32mC:\\Python311\\Lib\\site-packages\\pandas\\core\\series.py:1757\u001b[0m, in \u001b[0;36mSeries.reset_index\u001b[1;34m(self, level, drop, name, inplace, allow_duplicates)\u001b[0m\n\u001b[0;32m   1753\u001b[0m         \u001b[38;5;28;01mreturn\u001b[39;00m \u001b[38;5;28mself\u001b[39m\u001b[38;5;241m.\u001b[39m_constructor(\n\u001b[0;32m   1754\u001b[0m             \u001b[38;5;28mself\u001b[39m\u001b[38;5;241m.\u001b[39m_values\u001b[38;5;241m.\u001b[39mcopy(), index\u001b[38;5;241m=\u001b[39mnew_index, copy\u001b[38;5;241m=\u001b[39m\u001b[38;5;28;01mFalse\u001b[39;00m, dtype\u001b[38;5;241m=\u001b[39m\u001b[38;5;28mself\u001b[39m\u001b[38;5;241m.\u001b[39mdtype\n\u001b[0;32m   1755\u001b[0m         )\u001b[38;5;241m.\u001b[39m__finalize__(\u001b[38;5;28mself\u001b[39m, method\u001b[38;5;241m=\u001b[39m\u001b[38;5;124m\"\u001b[39m\u001b[38;5;124mreset_index\u001b[39m\u001b[38;5;124m\"\u001b[39m)\n\u001b[0;32m   1756\u001b[0m \u001b[38;5;28;01melif\u001b[39;00m inplace:\n\u001b[1;32m-> 1757\u001b[0m     \u001b[38;5;28;01mraise\u001b[39;00m \u001b[38;5;167;01mTypeError\u001b[39;00m(\n\u001b[0;32m   1758\u001b[0m         \u001b[38;5;124m\"\u001b[39m\u001b[38;5;124mCannot reset_index inplace on a Series to create a DataFrame\u001b[39m\u001b[38;5;124m\"\u001b[39m\n\u001b[0;32m   1759\u001b[0m     )\n\u001b[0;32m   1760\u001b[0m \u001b[38;5;28;01melse\u001b[39;00m:\n\u001b[0;32m   1761\u001b[0m     \u001b[38;5;28;01mif\u001b[39;00m name \u001b[38;5;129;01mis\u001b[39;00m lib\u001b[38;5;241m.\u001b[39mno_default:\n\u001b[0;32m   1762\u001b[0m         \u001b[38;5;66;03m# For backwards compatibility, keep columns as [0] instead of\u001b[39;00m\n\u001b[0;32m   1763\u001b[0m         \u001b[38;5;66;03m#  [None] when self.name is None\u001b[39;00m\n",
      "\u001b[1;31mTypeError\u001b[0m: Cannot reset_index inplace on a Series to create a DataFrame"
     ]
    }
   ],
   "source": [
    "#I also can change the original index\n",
    "#To change the original database\n",
    "\n",
    "data = [10, 20, None, 40, 50]\n",
    "series1 = pd.Series(data)\n",
    "print(series1)\n",
    "\n",
    "series1.dropna(inplace=True)\n",
    "series1.reset_index(inplace=True) #this creates an error because is trying to create a two dimension object that cannot fit in one dimension object of Series\n",
    "print(series1)"
   ]
  },
  {
   "cell_type": "code",
   "execution_count": 59,
   "id": "1da96c13-4ac2-4ef1-a89f-4286406e9cca",
   "metadata": {},
   "outputs": [
    {
     "name": "stdout",
     "output_type": "stream",
     "text": [
      "0    10.0\n",
      "1    20.0\n",
      "2     NaN\n",
      "3    40.0\n",
      "4    50.0\n",
      "dtype: float64\n",
      "0    10.0\n",
      "1    20.0\n",
      "2    40.0\n",
      "3    50.0\n",
      "dtype: float64\n"
     ]
    }
   ],
   "source": [
    "#I also can change the original index\n",
    "#To change the original database\n",
    "\n",
    "#To resolve the case before use drop on series1.reset_index(inplace=True, drop=True) because I do not want to retain a copy of the previous database\n",
    "\n",
    "data = [10, 20, None, 40, 50]\n",
    "series1 = pd.Series(data)\n",
    "print(series1)\n",
    "\n",
    "series1.dropna(inplace=True)\n",
    "series1.reset_index(inplace=True, drop=True) #this creates an error because is trying to create a two dimension object that cannot fit in one dimension object of Series\n",
    "print(series1)"
   ]
  },
  {
   "cell_type": "code",
   "execution_count": 60,
   "id": "e4986a56-2cb0-4ebf-8ba1-e678928aa77e",
   "metadata": {},
   "outputs": [
    {
     "name": "stdout",
     "output_type": "stream",
     "text": [
      "      Name  Age         City\n",
      "0    Alice   25     New York\n",
      "1      Bob   30  Los Angeles\n",
      "2  Charlie   35      Chicago\n"
     ]
    }
   ],
   "source": [
    "#Previous was about Series now lets explore about Data Frame\n",
    "# Data Frames require a two dimension data\n",
    "# Cannot convert a single list. Single list only converts into Series only\n",
    "# Pandas offers multiple ways to create a DataFrame, depending on the type and structure of the data you have\n",
    "\n",
    "# From a Dictionary of Lists\n",
    "# Each key in the dictionary represents a column name, and the values (lists) are the data for that column.\n",
    "import pandas as pd\n",
    "\n",
    "data = {\n",
    "    \"Name\": [\"Alice\", \"Bob\", \"Charlie\"],\n",
    "    \"Age\": [25, 30, 35],\n",
    "    \"City\": [\"New York\", \"Los Angeles\", \"Chicago\"]\n",
    "}\n",
    "\n",
    "df = pd.DataFrame(data)\n",
    "print(df)"
   ]
  },
  {
   "cell_type": "code",
   "execution_count": 61,
   "id": "82bf92a2-1ac3-4c80-973e-3446174b3f4f",
   "metadata": {},
   "outputs": [
    {
     "name": "stdout",
     "output_type": "stream",
     "text": [
      "      Name  Age         City\n",
      "0    Alice   25     New York\n",
      "1      Bob   30  Los Angeles\n",
      "2  Charlie   35      Chicago\n"
     ]
    }
   ],
   "source": [
    "# From a List of Dictionaries\n",
    "# Important APIs will give you the data in this format!\n",
    "# Each dictionary in the list represents a row of data, with keys as column names.\n",
    "data = [\n",
    "    {\"Name\": \"Alice\", \"Age\": 25, \"City\": \"New York\"},\n",
    "    {\"Name\": \"Bob\", \"Age\": 30, \"City\": \"Los Angeles\"},\n",
    "    {\"Name\": \"Charlie\", \"Age\": 35, \"City\": \"Chicago\"}\n",
    "]\n",
    "\n",
    "df = pd.DataFrame(data)\n",
    "print(df)"
   ]
  },
  {
   "cell_type": "code",
   "execution_count": 62,
   "id": "244eb7a3-a832-4895-bb85-706f1c1d931e",
   "metadata": {},
   "outputs": [
    {
     "name": "stdout",
     "output_type": "stream",
     "text": [
      "      Name  Age         City\n",
      "0    Alice   25     New York\n",
      "1      Bob   30  Los Angeles\n",
      "2  Charlie   35      Chicago\n"
     ]
    }
   ],
   "source": [
    "# From a List of Lists (with Column Names). You can create a DataFrame from a list of lists and specify the column names separately.\n",
    "#Unlabelled data (doesnt have labels)\n",
    "data = [\n",
    "    [\"Alice\", 25, \"New York\"],\n",
    "    [\"Bob\", 30, \"Los Angeles\"],\n",
    "    [\"Charlie\", 35, \"Chicago\"]\n",
    "]\n",
    "\n",
    "df = pd.DataFrame(data, columns=[\"Name\", \"Age\", \"City\"])\n",
    "print(df)"
   ]
  },
  {
   "cell_type": "code",
   "execution_count": 84,
   "id": "592fc3d3-b0e1-4163-934f-be0aeed4c4c1",
   "metadata": {},
   "outputs": [
    {
     "name": "stdout",
     "output_type": "stream",
     "text": [
      "Attributes os a DataFrame:\n",
      "Columns: Index(['Name', 'Age', 'City'], dtype='object')\n",
      "Index: RangeIndex(start=0, stop=3, step=1)\n",
      "Shape: (3, 3)\n",
      "Data Types: Name    object\n",
      "Age      int64\n",
      "City    object\n",
      "dtype: object\n",
      "Info 9summary):\n",
      "<class 'pandas.core.frame.DataFrame'>\n",
      "RangeIndex: 3 entries, 0 to 2\n",
      "Data columns (total 3 columns):\n",
      " #   Column  Non-Null Count  Dtype \n",
      "---  ------  --------------  ----- \n",
      " 0   Name    3 non-null      object\n",
      " 1   Age     3 non-null      int64 \n",
      " 2   City    3 non-null      object\n",
      "dtypes: int64(1), object(2)\n",
      "memory usage: 204.0+ bytes\n",
      "\n"
     ]
    }
   ],
   "source": [
    "# Attributes of a DataFrame. Creating a summarised report\n",
    "\n",
    "print(\"Attributes os a DataFrame:\")\n",
    "print(\"Columns:\", df.columns) # Returns the column labels\n",
    "print(\"Index:\", df.index) #Returns the index labels\n",
    "print(\"Shape:\", df.shape) # Returns the shape of the DtaFrame (rows, columns)\n",
    "print(\"Data Types:\", df.dtypes) # Returns the data types of the columns\n",
    "print(\"Info 9summary):\")\n",
    "df.info() # Asummary of the DataFrame with non-null count and data types \n",
    "print()"
   ]
  },
  {
   "cell_type": "code",
   "execution_count": 63,
   "id": "68f72a4e-3bb1-4812-b574-6e9a5a407b6a",
   "metadata": {},
   "outputs": [
    {
     "name": "stdout",
     "output_type": "stream",
     "text": [
      "      Name Age         City\n",
      "0    Alice  25     New York\n",
      "1      Bob  30  Los Angeles\n",
      "2  Charlie  35      Chicago\n"
     ]
    }
   ],
   "source": [
    "#From a NumPy Array. You can use a NumPy array to populate the DataFrame and provide column names.\n",
    "import numpy as np\n",
    "\n",
    "data = np.array([\n",
    "    [\"Alice\", 25, \"New York\"],\n",
    "    [\"Bob\", 30, \"Los Angeles\"],\n",
    "    [\"Charlie\", 35, \"Chicago\"]\n",
    "])\n",
    "\n",
    "df = pd.DataFrame(data, columns=[\"Name\", \"Age\", \"City\"])\n",
    "print(df)"
   ]
  },
  {
   "cell_type": "code",
   "execution_count": 64,
   "id": "3e9a69e8-7e02-4fa1-9a10-1a41565a3c45",
   "metadata": {},
   "outputs": [
    {
     "name": "stdout",
     "output_type": "stream",
     "text": [
      "      Name  Age         City\n",
      "0    Alice   25     New York\n",
      "1      Bob   30  Los Angeles\n",
      "2  Charlie   35      Chicago\n"
     ]
    }
   ],
   "source": [
    "# From a Dictionary of Series. Each Series object represents a column, and the keys represent the column names.\n",
    "# The length has to be the same everywhere (in this case 3... so it couldnt be 'Age': 925,30), because it would give an error\n",
    "data = {\n",
    "    \"Name\": pd.Series([\"Alice\", \"Bob\", \"Charlie\"]),\n",
    "    \"Age\": pd.Series([25, 30, 35]),\n",
    "    \"City\": pd.Series([\"New York\", \"Los Angeles\", \"Chicago\"])\n",
    "}\n",
    "\n",
    "df = pd.DataFrame(data)\n",
    "print(df)"
   ]
  },
  {
   "cell_type": "code",
   "execution_count": 69,
   "id": "1e7d862d-1be6-470b-a02d-b7455e0ba5cc",
   "metadata": {},
   "outputs": [
    {
     "data": {
      "text/html": [
       "<div>\n",
       "<style scoped>\n",
       "    .dataframe tbody tr th:only-of-type {\n",
       "        vertical-align: middle;\n",
       "    }\n",
       "\n",
       "    .dataframe tbody tr th {\n",
       "        vertical-align: top;\n",
       "    }\n",
       "\n",
       "    .dataframe thead th {\n",
       "        text-align: right;\n",
       "    }\n",
       "</style>\n",
       "<table border=\"1\" class=\"dataframe\">\n",
       "  <thead>\n",
       "    <tr style=\"text-align: right;\">\n",
       "      <th></th>\n",
       "      <th>Name</th>\n",
       "      <th>Age</th>\n",
       "      <th>City</th>\n",
       "    </tr>\n",
       "  </thead>\n",
       "  <tbody>\n",
       "    <tr>\n",
       "      <th>0</th>\n",
       "      <td>Alice</td>\n",
       "      <td>30</td>\n",
       "      <td>Unknown</td>\n",
       "    </tr>\n",
       "    <tr>\n",
       "      <th>1</th>\n",
       "      <td>Bob</td>\n",
       "      <td>30</td>\n",
       "      <td>Unknown</td>\n",
       "    </tr>\n",
       "    <tr>\n",
       "      <th>2</th>\n",
       "      <td>Charlie</td>\n",
       "      <td>30</td>\n",
       "      <td>Unknown</td>\n",
       "    </tr>\n",
       "  </tbody>\n",
       "</table>\n",
       "</div>"
      ],
      "text/plain": [
       "      Name  Age     City\n",
       "0    Alice   30  Unknown\n",
       "1      Bob   30  Unknown\n",
       "2  Charlie   30  Unknown"
      ]
     },
     "execution_count": 69,
     "metadata": {},
     "output_type": "execute_result"
    }
   ],
   "source": [
    "df"
   ]
  },
  {
   "cell_type": "code",
   "execution_count": 70,
   "id": "aeefef28-b462-4eee-ad70-cc62e84a9e99",
   "metadata": {},
   "outputs": [
    {
     "data": {
      "text/plain": [
       "RangeIndex(start=0, stop=3, step=1)"
      ]
     },
     "execution_count": 70,
     "metadata": {},
     "output_type": "execute_result"
    }
   ],
   "source": [
    "#Two types of Indexing\n",
    "\n",
    "df.index"
   ]
  },
  {
   "cell_type": "code",
   "execution_count": 71,
   "id": "d94d6909-4f9f-4c9e-b040-5bb7fd03218f",
   "metadata": {},
   "outputs": [
    {
     "data": {
      "text/plain": [
       "Index(['Name', 'Age', 'City'], dtype='object')"
      ]
     },
     "execution_count": 71,
     "metadata": {},
     "output_type": "execute_result"
    }
   ],
   "source": [
    "#Two types of Indexing\n",
    "\n",
    "df.columns"
   ]
  },
  {
   "cell_type": "code",
   "execution_count": 72,
   "id": "dc4c2b77-405a-49c0-832c-617ce75da5c6",
   "metadata": {},
   "outputs": [
    {
     "data": {
      "text/plain": [
       "Name      Alice\n",
       "Age          30\n",
       "City    Unknown\n",
       "Name: 0, dtype: object"
      ]
     },
     "execution_count": 72,
     "metadata": {},
     "output_type": "execute_result"
    }
   ],
   "source": [
    "df.loc[0] #locating the items"
   ]
  },
  {
   "cell_type": "code",
   "execution_count": 73,
   "id": "80e9be3a-8148-4cf6-a3a8-239654feb28f",
   "metadata": {},
   "outputs": [
    {
     "data": {
      "text/plain": [
       "Name        Bob\n",
       "Age          30\n",
       "City    Unknown\n",
       "Name: 1, dtype: object"
      ]
     },
     "execution_count": 73,
     "metadata": {},
     "output_type": "execute_result"
    }
   ],
   "source": [
    "df.loc[1] #locating the items"
   ]
  },
  {
   "cell_type": "code",
   "execution_count": 74,
   "id": "0288af1b-701c-4845-965f-e678597139e3",
   "metadata": {},
   "outputs": [
    {
     "data": {
      "text/plain": [
       "'Bob'"
      ]
     },
     "execution_count": 74,
     "metadata": {},
     "output_type": "execute_result"
    }
   ],
   "source": [
    "df.loc[1, 'Name']"
   ]
  },
  {
   "cell_type": "code",
   "execution_count": 75,
   "id": "46ed1f3d-3fe2-41cd-84b6-9682f9801348",
   "metadata": {},
   "outputs": [
    {
     "data": {
      "text/plain": [
       "'Alice'"
      ]
     },
     "execution_count": 75,
     "metadata": {},
     "output_type": "execute_result"
    }
   ],
   "source": [
    "df.loc[0, 'Name']"
   ]
  },
  {
   "cell_type": "code",
   "execution_count": 76,
   "id": "05f33535-2801-46a5-ada5-858dfb915387",
   "metadata": {},
   "outputs": [
    {
     "data": {
      "text/plain": [
       "Name        Bob\n",
       "Age          30\n",
       "City    Unknown\n",
       "Name: 1, dtype: object"
      ]
     },
     "execution_count": 76,
     "metadata": {},
     "output_type": "execute_result"
    }
   ],
   "source": [
    "#Returning the entire row\n",
    "df.loc[1]"
   ]
  },
  {
   "cell_type": "code",
   "execution_count": 77,
   "id": "3f9de531-2cd6-4896-ad2b-f152fd9b2ea1",
   "metadata": {},
   "outputs": [
    {
     "data": {
      "text/html": [
       "<div>\n",
       "<style scoped>\n",
       "    .dataframe tbody tr th:only-of-type {\n",
       "        vertical-align: middle;\n",
       "    }\n",
       "\n",
       "    .dataframe tbody tr th {\n",
       "        vertical-align: top;\n",
       "    }\n",
       "\n",
       "    .dataframe thead th {\n",
       "        text-align: right;\n",
       "    }\n",
       "</style>\n",
       "<table border=\"1\" class=\"dataframe\">\n",
       "  <thead>\n",
       "    <tr style=\"text-align: right;\">\n",
       "      <th></th>\n",
       "      <th>Name</th>\n",
       "      <th>Age</th>\n",
       "    </tr>\n",
       "  </thead>\n",
       "  <tbody>\n",
       "    <tr>\n",
       "      <th>0</th>\n",
       "      <td>Alice</td>\n",
       "      <td>30</td>\n",
       "    </tr>\n",
       "    <tr>\n",
       "      <th>1</th>\n",
       "      <td>Bob</td>\n",
       "      <td>30</td>\n",
       "    </tr>\n",
       "    <tr>\n",
       "      <th>2</th>\n",
       "      <td>Charlie</td>\n",
       "      <td>30</td>\n",
       "    </tr>\n",
       "  </tbody>\n",
       "</table>\n",
       "</div>"
      ],
      "text/plain": [
       "      Name  Age\n",
       "0    Alice   30\n",
       "1      Bob   30\n",
       "2  Charlie   30"
      ]
     },
     "execution_count": 77,
     "metadata": {},
     "output_type": "execute_result"
    }
   ],
   "source": [
    "# Accessing columns only (loc can'te be used here)\n",
    "\n",
    "df[['Name', 'Age']]"
   ]
  },
  {
   "cell_type": "code",
   "execution_count": 78,
   "id": "df35295b-182d-49a8-b0e2-f8628f80853f",
   "metadata": {},
   "outputs": [
    {
     "data": {
      "text/plain": [
       "0      Alice\n",
       "1        Bob\n",
       "2    Charlie\n",
       "Name: Name, dtype: object"
      ]
     },
     "execution_count": 78,
     "metadata": {},
     "output_type": "execute_result"
    }
   ],
   "source": [
    "# Accessing a single columns only (loc can'te be used here)\n",
    "\n",
    "df['Name']"
   ]
  },
  {
   "cell_type": "code",
   "execution_count": 83,
   "id": "ffd6a0c5-251c-4c71-abfd-046afe00271d",
   "metadata": {},
   "outputs": [
    {
     "data": {
      "text/plain": [
       "'Charlie'"
      ]
     },
     "execution_count": 83,
     "metadata": {},
     "output_type": "execute_result"
    }
   ],
   "source": [
    "#Using slicing to access\n",
    "\n",
    "df.iloc[2,0]"
   ]
  },
  {
   "cell_type": "code",
   "execution_count": 66,
   "id": "af0f62e1-8496-49ac-a35b-271ac911d6ab",
   "metadata": {},
   "outputs": [
    {
     "name": "stdout",
     "output_type": "stream",
     "text": [
      "Empty DataFrame\n",
      "Columns: [{\"products\":[{\"id\":1, title:\"Essence Mascara Lash Princess\", description:\"The Essence Mascara Lash Princess is a popular mascara known for its volumizing and lengthening effects. Achieve dramatic lashes with this long-lasting and cruelty-free formula.\", category:\"beauty\", price:9.99, discountPercentage:7.17, rating:4.94, stock:5, tags:[\"beauty\", mascara], brand:\"Essence\", sku:\"RCH45Q1A\", weight:2, dimensions:{\"width\":23.17, height:14.43, depth:28.01}, warrantyInformation:\"1 month warranty\", shippingInformation:\"Ships in 1 month\", availabilityStatus:\"Low Stock\", reviews:[{\"rating\":2, comment:\"Very unhappy with my purchase!\", date:\"2024-05-23T08:56:21.618Z\", reviewerName:\"John Doe\", reviewerEmail:\"john.doe@x.dummyjson.com\"}, {\"rating\":2, comment:\"Not as described!\", date:\"2024-05-23T08:56:21.618Z\".1, reviewerName:\"Nolan Gonzalez\", reviewerEmail:\"nolan.gonzalez@x.dummyjson.com\"}, {\"rating\":5, comment:\"Very satisfied!\", date:\"2024-05-23T08:56:21.618Z\".2, reviewerName:\"Scarlett Wright\", reviewerEmail:\"scarlett.wright@x.dummyjson.com\"}], returnPolicy:\"30 days return policy\", minimumOrderQuantity:24, meta:{\"createdAt\":\"2024-05-23T08:56:21.618Z\", updatedAt:\"2024-05-23T08:56:21.618Z\", barcode:\"9164035109868\", qrCode:\"https://assets.dummyjson.com/public/qr-code.png\"}, images:[\"https://cdn.dummyjson.com/products/images/beauty/Essence%20Mascara%20Lash%20Princess/1.png\"], thumbnail:\"https://cdn.dummyjson.com/products/images/beauty/Essence%20Mascara%20Lash%20Princess/thumbnail.png\"}, {\"id\":2, title:\"Eyeshadow Palette with Mirror\", description:\"The Eyeshadow Palette with Mirror offers a versatile range of eyeshadow shades for creating stunning eye looks. With a built-in mirror,  it's convenient for on-the-go makeup application.\", category:\"beauty\".1, price:19.99, discountPercentage:5.5, rating:3.28, stock:44, tags:[\"beauty\".1, eyeshadow], brand:\"Glamour Beauty\", sku:\"MVCFH27F\", weight:3, dimensions:{\"width\":12.42, height:8.63, depth:29.13}, warrantyInformation:\"1 year warranty\", shippingInformation:\"Ships in 2 weeks\", availabilityStatus:\"In Stock\", reviews:[{\"rating\":4, comment:\"Very satisfied!\".1, date:\"2024-05-23T08:56:21.618Z\".3, reviewerName:\"Liam Garcia\", reviewerEmail:\"liam.garcia@x.dummyjson.com\"}, {\"rating\":1, comment:\"Very disappointed!\", date:\"2024-05-23T08:56:21.618Z\".4, reviewerName:\"Nora Russell\", reviewerEmail:\"nora.russell@x.dummyjson.com\"}, {\"rating\":5.1, comment:\"Highly impressed!\", date:\"2024-05-23T08:56:21.618Z\".5, reviewerName:\"Elena Baker\", reviewerEmail:\"elena.baker@x.dummyjson.com\"}], returnPolicy:\"30 days return policy\".1, minimumOrderQuantity:32, meta:{\"createdAt\":\"2024-05-23T08:56:21.618Z\".1, updatedAt:\"2024-05-23T08:56:21.618Z\".1, barcode:\"2817839095220\", qrCode:\"https://assets.dummyjson.com/public/qr-code.png\"}.1, images:[\"https://cdn.dummyjson.com/products/images/beauty/Eyeshadow%20Palette%20with%20Mirror/1.png\"], thumbnail:\"https://cdn.dummyjson.com/products/images/beauty/Eyeshadow%20Palette%20with%20Mirror/thumbnail.png\"}, {\"id\":3, title:\"Powder Canister\", description:\"The Powder Canister is a finely milled setting powder designed to set makeup and control shine. With a lightweight and translucent formula,  it provides a smooth and matte finish.\", category:\"beauty\".2, price:14.99, discountPercentage:18.14, rating:3.82, stock:59, tags:[\"beauty\".2, face powder], brand:\"Velvet Touch\", sku:\"9EN8WLT2\", weight:8, dimensions:{\"width\":24.16, ...]\n",
      "Index: []\n",
      "\n",
      "[0 rows x 1301 columns]\n"
     ]
    }
   ],
   "source": [
    "# From a CSV File. You can create a DataFrame by reading data from a CSV file using the pd.read_csv() method.\n",
    "# df = pd.read_csv(\"data.csv\")\n",
    "# print(df)\n",
    "\n",
    "# From an Excel File. Use pd.read_excel() to create a DataFrame from an Excel file.\n",
    "# df = pd.read_excel(\"data.xlsx\")\n",
    "# print(df)\n",
    "\n",
    "# From a JSON File. You can also load data from a JSON file using pd.read_json().\n",
    "#df = pd.read_json(\"data.json\")\n",
    "# print(df)\n",
    "\n",
    "# From a Zip File or Multiple Sources\n",
    "# Pandas can handle compressed files or URLs directly. For instance:\n",
    "\n",
    "# df = pd.read_csv(\"data.zip\") \n",
    "# or\n",
    "df = pd.read_csv(\"https://dummyjson.com/products\")\n",
    "print(df)"
   ]
  },
  {
   "cell_type": "code",
   "execution_count": 67,
   "id": "b9a8bf30-3115-4b0b-a3b3-a08b1c61c5b7",
   "metadata": {},
   "outputs": [
    {
     "name": "stdout",
     "output_type": "stream",
     "text": [
      "      Name  Age     City\n",
      "0    Alice   30  Unknown\n",
      "1      Bob   30  Unknown\n",
      "2  Charlie   30  Unknown\n"
     ]
    }
   ],
   "source": [
    "# From Scalars or Default Values. You can initialize a DataFrame with default values or scalar values.\n",
    "df = pd.DataFrame({\n",
    "    \"Name\": [\"Alice\", \"Bob\", \"Charlie\"],\n",
    "    \"Age\": 30,  # A scalar value is broadcast to all rows\n",
    "    \"City\": \"Unknown\"\n",
    "})\n",
    "print(df)"
   ]
  },
  {
   "cell_type": "code",
   "execution_count": 68,
   "id": "06b8a863-951a-430f-a90d-2d523084980c",
   "metadata": {},
   "outputs": [
    {
     "name": "stdout",
     "output_type": "stream",
     "text": [
      "      Name         City\n",
      "0    Alice     New York\n",
      "1      Bob  Los Angeles\n",
      "2  Charlie      Chicago\n"
     ]
    }
   ],
   "source": [
    "# From Existing DataFrames. You can create a new DataFrame by slicing or copying another DataFrame.\n",
    "original_df = pd.DataFrame({\n",
    "    \"Name\": [\"Alice\", \"Bob\", \"Charlie\"],\n",
    "    \"Age\": [25, 30, 35],\n",
    "    \"City\": [\"New York\", \"Los Angeles\", \"Chicago\"]\n",
    "})\n",
    "\n",
    "# Slicing to create a new DataFrame\n",
    "new_df = original_df[[\"Name\", \"City\"]]\n",
    "print(new_df)\n"
   ]
  },
  {
   "cell_type": "code",
   "execution_count": null,
   "id": "ed84498d-2cef-4d15-ab25-ce107b5cfd6b",
   "metadata": {},
   "outputs": [],
   "source": [
    "# Summary Table of Methods:\n",
    "# Method\tExample Syntax\n",
    "\n",
    "# Dictionary of Lists\tpd.DataFrame(data_dict)\n",
    "# List of Dictionaries\tpd.DataFrame(list_of_dicts)\n",
    "# List of Lists\tpd.DataFrame(list_of_lists, columns=...)\n",
    "# NumPy Array\tpd.DataFrame(np_array, columns=...)\n",
    "# Dictionary of Series\tpd.DataFrame(data_dict_of_series)\n",
    "# CSV File\tpd.read_csv(\"file.csv\")\n",
    "# Excel File\tpd.read_excel(\"file.xlsx\")\n",
    "# JSON File\tpd.read_json(\"file.json\")\n",
    "# Scalars\tpd.DataFrame({\"col1\": scalar_value})\n",
    "\n",
    "# NumPy (short for Numerical Python) is a Python library used for scientific computing and data manipulation. It's widely considered the foundational package for numerical computing in Python because of its powerful capabilities for handling arrays and performing mathematical operations efficiently.\n"
   ]
  }
 ],
 "metadata": {
  "kernelspec": {
   "display_name": "Python 3 (ipykernel)",
   "language": "python",
   "name": "python3"
  },
  "language_info": {
   "codemirror_mode": {
    "name": "ipython",
    "version": 3
   },
   "file_extension": ".py",
   "mimetype": "text/x-python",
   "name": "python",
   "nbconvert_exporter": "python",
   "pygments_lexer": "ipython3",
   "version": "3.11.5"
  }
 },
 "nbformat": 4,
 "nbformat_minor": 5
}
