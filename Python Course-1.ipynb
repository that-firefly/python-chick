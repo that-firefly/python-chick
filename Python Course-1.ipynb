{
 "cells": [
  {
   "cell_type": "code",
   "execution_count": 1,
   "id": "0621b2ca-38bd-40b6-b314-11765ed2b39e",
   "metadata": {},
   "outputs": [],
   "source": [
    "import numpy as np"
   ]
  },
  {
   "cell_type": "code",
   "execution_count": 2,
   "id": "c666709b-cd17-4da8-a4e2-3c61fe9064f0",
   "metadata": {},
   "outputs": [],
   "source": [
    "my_list = [1, 2, 3, 4, 5]"
   ]
  },
  {
   "cell_type": "code",
   "execution_count": 3,
   "id": "1aafd08f-0927-41f6-a861-98b6000506ca",
   "metadata": {},
   "outputs": [],
   "source": [
    "my_array = np.array(my_list)"
   ]
  },
  {
   "cell_type": "code",
   "execution_count": 4,
   "id": "a365186a-8bef-4036-afc3-4d89d3b33c6c",
   "metadata": {},
   "outputs": [
    {
     "data": {
      "text/plain": [
       "array([1, 2, 3, 4, 5])"
      ]
     },
     "execution_count": 4,
     "metadata": {},
     "output_type": "execute_result"
    }
   ],
   "source": [
    "my_array"
   ]
  },
  {
   "cell_type": "code",
   "execution_count": 5,
   "id": "73e4502b-9d23-4902-b91b-8f4b8b27a212",
   "metadata": {},
   "outputs": [
    {
     "name": "stdout",
     "output_type": "stream",
     "text": [
      "9\n",
      "Random Integer Array:\n",
      " [[3 8 8]\n",
      " [5 8 5]\n",
      " [8 7 3]]\n"
     ]
    }
   ],
   "source": [
    "import random\n",
    "import numpy as np\n",
    "\n",
    "# Generate a random integer between 1 and 10 using random module\n",
    "print(random.randint(1, 10))\n",
    "\n",
    "# Generate a 3x3 array of random integers between 1 and 10 using NumPy\n",
    "rand_int = np.random.randint(1, 10, size=(3, 3))\n",
    "\n",
    "# Print the random integer array\n",
    "print(\"Random Integer Array:\\n\", rand_int)"
   ]
  },
  {
   "cell_type": "code",
   "execution_count": 6,
   "id": "e36bd086-d817-49ad-b358-70da769e2f78",
   "metadata": {},
   "outputs": [
    {
     "name": "stdout",
     "output_type": "stream",
     "text": [
      "Random Float Array:\n",
      " [[0.89586107 0.9974724 ]\n",
      " [0.39325099 0.77447379]]\n"
     ]
    }
   ],
   "source": [
    "rand_float = np.random.random((2,2))\n",
    "print(\"Random Float Array:\\n\", rand_float)"
   ]
  },
  {
   "cell_type": "code",
   "execution_count": 7,
   "id": "88431a50-aa49-4dcb-8436-d60d0d603fb1",
   "metadata": {},
   "outputs": [
    {
     "name": "stdout",
     "output_type": "stream",
     "text": [
      "normal Distribution Array:\n",
      " [[ 1.07500822  0.29528844 -0.06953621]\n",
      " [-0.70449717  0.42519179  0.58866997]\n",
      " [ 1.11906971 -2.63058313 -0.54408195]]\n"
     ]
    }
   ],
   "source": [
    "normal_dist = np.random.randn(3, 3)\n",
    "print(\"normal Distribution Array:\\n\", normal_dist)"
   ]
  },
  {
   "cell_type": "code",
   "execution_count": 8,
   "id": "83c0d6dc-9d43-49ca-9da3-3cddb53bbdfd",
   "metadata": {},
   "outputs": [
    {
     "name": "stdout",
     "output_type": "stream",
     "text": [
      "\n",
      "Arange array (range with step):\n",
      " [[1 2 3]\n",
      " [4 5 6]\n",
      " [7 8 9]]\n"
     ]
    }
   ],
   "source": [
    "arr_arange = np.arange(1, 10, 1).reshape(3,3)\n",
    "print(\"\\nArange array (range with step):\\n\", arr_arange)"
   ]
  },
  {
   "cell_type": "code",
   "execution_count": 10,
   "id": "cd5faa5e-16f9-400d-9c6a-271c9fcee46d",
   "metadata": {},
   "outputs": [
    {
     "ename": "SyntaxError",
     "evalue": "closing parenthesis ']' does not match opening parenthesis '{' (1710407192.py, line 4)",
     "output_type": "error",
     "traceback": [
      "\u001b[1;36m  Cell \u001b[1;32mIn[10], line 4\u001b[1;36m\u001b[0m\n\u001b[1;33m    print(\"slice \", arr_arange{1:6])\u001b[0m\n\u001b[1;37m                                  ^\u001b[0m\n\u001b[1;31mSyntaxError\u001b[0m\u001b[1;31m:\u001b[0m closing parenthesis ']' does not match opening parenthesis '{'\n"
     ]
    }
   ],
   "source": [
    "arr_arange = np.arange(1, 10, 1).reshape(3,3)\n",
    "print(\"\\nArange array (range with step):\\n\", arr_arange)\n",
    "print(\"index \", arr_arange[5])\n",
    "print(\"slice \", arr_arange{1:6])"
   ]
  },
  {
   "cell_type": "code",
   "execution_count": 11,
   "id": "6879e872-ac56-45f1-9eec-c3e2088a8379",
   "metadata": {},
   "outputs": [
    {
     "name": "stdout",
     "output_type": "stream",
     "text": [
      "\n",
      "Arange array (range with step):\n",
      " [[1 2 3]\n",
      " [4 5 6]\n",
      " [7 8 9]]\n",
      "index [1, 2]: 6\n",
      "slice (rows 1 to 2, columns 1 to 2):\n",
      " [[4 5]\n",
      " [7 8]]\n"
     ]
    }
   ],
   "source": [
    "import numpy as np\n",
    "arr_arange = np.arange(1, 10, 1).reshape(3, 3)\n",
    "print(\"\\nArange array (range with step):\\n\", arr_arange)\n",
    "print(\"index [1, 2]:\", arr_arange[1, 2])  \n",
    "print(\"slice (rows 1 to 2, columns 1 to 2):\\n\", arr_arange[1:3, 0:2])  "
   ]
  },
  {
   "cell_type": "code",
   "execution_count": 12,
   "id": "dee44581-1428-47d7-b082-51aef67c1a4a",
   "metadata": {},
   "outputs": [
    {
     "name": "stdout",
     "output_type": "stream",
     "text": [
      "\n",
      "Arange array (range with step):\n",
      " [1 2 3 4 5 6 7 8 9]\n",
      "index  6\n",
      "slice  [2 3 4 5 6]\n",
      "slice  [1 2 3 4 5 6]\n",
      "slice  [3 4 5 6 7 8 9]\n"
     ]
    }
   ],
   "source": [
    "arr_arange = np.arange(1, 10, 1)\n",
    "print(\"\\nArange array (range with step):\\n\", arr_arange)\n",
    "print(\"index \", arr_arange[5])\n",
    "print(\"slice \", arr_arange[1:6])\n",
    "print(\"slice \", arr_arange[:6])\n",
    "print(\"slice \", arr_arange[2:])\n"
   ]
  },
  {
   "cell_type": "code",
   "execution_count": 13,
   "id": "5d6ed0a1-5258-4b3f-b70f-e23bf95fd02b",
   "metadata": {},
   "outputs": [
    {
     "name": "stdout",
     "output_type": "stream",
     "text": [
      "\n",
      "Arange array (range with step):\n",
      " [[1 2 3]\n",
      " [4 5 6]\n",
      " [7 8 9]]\n",
      "[4 5 6]\n",
      "5\n",
      "[2 5 8]\n",
      "[[1 2]\n",
      " [4 5]]\n"
     ]
    }
   ],
   "source": [
    "arr_arange = np.arange(1, 10, 1).reshape(3,3)\n",
    "print(\"\\nArange array (range with step):\\n\", arr_arange)\n",
    "print(arr_arange[1])\n",
    "print(arr_arange[1,1])\n",
    "print(arr_arange[:,1])\n",
    "print(arr_arange[::2,::2]) #[start=0:end=len(array):step=1]"
   ]
  },
  {
   "cell_type": "code",
   "execution_count": 14,
   "id": "920269d2-7cb2-44ee-a60e-c51e93051db2",
   "metadata": {
    "scrolled": true
   },
   "outputs": [
    {
     "name": "stdout",
     "output_type": "stream",
     "text": [
      "[[1 3]\n",
      " [7 9]]\n",
      "[[1 2]\n",
      " [4 5]]\n"
     ]
    }
   ],
   "source": [
    "arr1 = arr_arange[::2,::2]\n",
    "print(arr1)\n",
    "arr2 = arr_arange[:2:1,:2:1]\n",
    "print(arr2)"
   ]
  },
  {
   "cell_type": "code",
   "execution_count": 15,
   "id": "7c9c5d31-e20f-41a7-afcf-b9b4f8e655cc",
   "metadata": {},
   "outputs": [
    {
     "name": "stdout",
     "output_type": "stream",
     "text": [
      "[[1 2]\n",
      " [4 5]]\n"
     ]
    }
   ],
   "source": [
    "arr1 = arr2 + 5\n",
    "print(arr2)"
   ]
  },
  {
   "cell_type": "code",
   "execution_count": 17,
   "id": "003aed7d-bb1c-4741-8b41-7f9c1b4c0477",
   "metadata": {},
   "outputs": [
    {
     "name": "stdout",
     "output_type": "stream",
     "text": [
      "[[2 4]\n",
      " [5 7]]\n",
      "[[1 2]\n",
      " [4 5]]\n"
     ]
    }
   ],
   "source": [
    "arr1 = arr2 + np.array([1,2])\n",
    "print(arr1)\n",
    "print(arr2)"
   ]
  },
  {
   "cell_type": "code",
   "execution_count": 18,
   "id": "f9a06b9b-60c4-4c14-92d9-6e7a157e8b09",
   "metadata": {},
   "outputs": [],
   "source": [
    "l1 = [5,6,7,4, \"Jay\", False, (5,6)]"
   ]
  },
  {
   "cell_type": "code",
   "execution_count": 19,
   "id": "eb105f1b-33b9-4500-ac9f-e977e99e2b84",
   "metadata": {},
   "outputs": [
    {
     "name": "stdout",
     "output_type": "stream",
     "text": [
      "[5, 6, 7, 4, 'Jay', False, (5, 6)]\n"
     ]
    }
   ],
   "source": [
    "print(l1)"
   ]
  },
  {
   "cell_type": "code",
   "execution_count": null,
   "id": "82ee42e2-47fe-41a1-8f14-2a58b934dc35",
   "metadata": {},
   "outputs": [],
   "source": []
  }
 ],
 "metadata": {
  "kernelspec": {
   "display_name": "Python 3 (ipykernel)",
   "language": "python",
   "name": "python3"
  },
  "language_info": {
   "codemirror_mode": {
    "name": "ipython",
    "version": 3
   },
   "file_extension": ".py",
   "mimetype": "text/x-python",
   "name": "python",
   "nbconvert_exporter": "python",
   "pygments_lexer": "ipython3",
   "version": "3.11.5"
  }
 },
 "nbformat": 4,
 "nbformat_minor": 5
}
